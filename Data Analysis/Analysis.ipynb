{
 "cells": [
  {
   "cell_type": "markdown",
   "id": "cc2e6fec",
   "metadata": {},
   "source": [
    "# Mammography data Analysis"
   ]
  },
  {
   "cell_type": "markdown",
   "id": "1ebf56c2",
   "metadata": {},
   "source": [
    "The goal of the project is to find the Cancer type, position and radious of the cyst from mammography"
   ]
  },
  {
   "cell_type": "markdown",
   "id": "4d163ee9",
   "metadata": {},
   "source": [
    "### Init"
   ]
  },
  {
   "cell_type": "code",
   "execution_count": null,
   "id": "c2544b03",
   "metadata": {},
   "outputs": [],
   "source": [
    "import pandas as pd\n",
    "import matplotlib.pyplot as plt\n",
    "import math\n",
    "import seaborn as sns\n",
    "import cv2\n",
    "import os"
   ]
  },
  {
   "cell_type": "markdown",
   "id": "61d7da35",
   "metadata": {},
   "source": [
    "### Functions"
   ]
  },
  {
   "cell_type": "code",
   "execution_count": null,
   "id": "659b6521",
   "metadata": {},
   "outputs": [],
   "source": [
    "def load_data(file_path):\n",
    "    df = pd.read_csv(file_path, sep=' ', header=None)\n",
    "    df.columns = ['ImageID', 'BreastDensity', 'AbnormalityType', 'Assessment', 'X', 'Y', 'Radius']\n",
    "    return df\n",
    "\n",
    "def initial_analysis(df):\n",
    "    print(\"\\n--- First 5 rows of the DataFrame ---\")\n",
    "    print(df.head(5)) # Display the first 5 rows of the DataFrame\n",
    "    print(\"\\n--- Dataset Info ---\")\n",
    "    print(df.info()) # Display information about the DataFrame\n",
    "    print(\"\\nTotal NaN values in DataFrame:\", df.isna().sum().sum())  # Count all NaNs\n",
    "    print(\"\\n--- Unique Categories in Each Column ---\")\n",
    "\n",
    "\n",
    "\n",
    "def convert_coordinates_to_float(df):\n",
    "    # Convert specified columns to float, handling errors\n",
    "    df_copy = df.copy()\n",
    "    for col in ['X', 'Y', 'Radius']:\n",
    "        if col in df_copy.columns:\n",
    "            df_copy[col] = pd.to_numeric(df_copy[col], errors='coerce').astype(float)\n",
    "    return df_copy\n",
    "\n",
    "def fill_nan(df):\n",
    "    df_copy = df.copy()\n",
    "\n",
    "    # Fill numeric coordinate/size columns with 0\n",
    "    for col in ['X', 'Y', 'Radius']:\n",
    "        if col in df_copy.columns:\n",
    "            df_copy[col] = df_copy[col].fillna(0)\n",
    "\n",
    "    # Fill Assessment with 'N' for Normal\n",
    "    if 'Assessment' in df_copy.columns:\n",
    "        df_copy['Assessment'] = df_copy['Assessment'].fillna('N')\n",
    "\n",
    "    return df_copy\n"
   ]
  },
  {
   "cell_type": "code",
   "execution_count": null,
   "id": "c4f3109e",
   "metadata": {},
   "outputs": [],
   "source": [
    "def initial_plot(df, figsize=(5, 4), dropna=False, max_cols_per_row=4):\n",
    "    # Columns to include\n",
    "    include_cols = ['Assessment', 'BreastDensity', 'AbnormalityType']\n",
    "\n",
    "    # Filter to keep only columns present in the DataFrame\n",
    "    categorical_cols = [col for col in include_cols if col in df.columns]\n",
    "\n",
    "    if not categorical_cols:\n",
    "        print(\"No specified columns found in the DataFrame.\")\n",
    "        return\n",
    "\n",
    "    # Grid dimensions\n",
    "    total_plots = len(categorical_cols)\n",
    "    n_rows = math.ceil(total_plots / max_cols_per_row)\n",
    "    n_cols = min(total_plots, max_cols_per_row)\n",
    "\n",
    "    # Create figure and axes\n",
    "    fig, axes = plt.subplots(n_rows, n_cols, figsize=(figsize[0] * n_cols, figsize[1] * n_rows))\n",
    "    axes = axes.flatten() if total_plots > 1 else [axes]\n",
    "\n",
    "    # Plot each categorical column\n",
    "    for i, col in enumerate(categorical_cols):\n",
    "        counts = df[col].value_counts(dropna=dropna)\n",
    "        axes[i].bar(counts.index.astype(str), counts.values)\n",
    "        axes[i].set_title(col)\n",
    "        axes[i].set_xlabel('')\n",
    "        axes[i].set_ylabel('Count')\n",
    "        axes[i].tick_params(axis='x', rotation=45)\n",
    "\n",
    "    # Hide unused subplots\n",
    "    for j in range(i + 1, len(axes)):\n",
    "        axes[j].axis('off')\n",
    "\n",
    "    plt.tight_layout()\n",
    "    plt.show()"
   ]
  },
  {
   "cell_type": "code",
   "execution_count": null,
   "id": "3bff82a3",
   "metadata": {},
   "outputs": [],
   "source": [
    "def enforce_numeric_coords(df):\n",
    "    for col in [\"X\", \"Y\", \"Radius\"]:\n",
    "        df[col] = pd.to_numeric(df[col], errors='coerce').astype(float)\n",
    "    return df"
   ]
  },
  {
   "cell_type": "code",
   "execution_count": null,
   "id": "e54c2c40",
   "metadata": {},
   "outputs": [],
   "source": [
    "\n",
    "def plot_breastdensity_vs_abnormalitytype(df):\n",
    "    \"\"\"Plot Breast Density vs Abnormality Type heatmap.\"\"\"\n",
    "    plt.figure(figsize=(8,5))\n",
    "    ct_density_abn = pd.crosstab(df[\"BreastDensity\"], df[\"AbnormalityType\"])\n",
    "    sns.heatmap(ct_density_abn, annot=True, fmt=\"d\", cmap=\"YlGnBu\")\n",
    "    plt.title(\"Breast Density vs Abnormality Type\")\n",
    "    plt.ylabel(\"Breast Density\")\n",
    "    plt.xlabel(\"Abnormality Type\")\n",
    "    plt.show()\n"
   ]
  },
  {
   "cell_type": "code",
   "execution_count": null,
   "id": "0387dd72",
   "metadata": {},
   "outputs": [],
   "source": [
    "def plot_abnormalitytype_vs_assessment(df):\n",
    "    \"\"\"Plot Abnormality Type vs Assessment stacked bar.\"\"\"\n",
    "    plt.figure(figsize=(8,5))\n",
    "    ct_abn_assess = pd.crosstab(df[\"AbnormalityType\"], df[\"Assessment\"])\n",
    "    ct_abn_assess.plot(kind=\"bar\", stacked=True, colormap=\"coolwarm\", figsize=(8,5))\n",
    "    plt.title(\"Abnormality Type vs Assessment\")\n",
    "    plt.ylabel(\"Count\")\n",
    "    plt.xlabel(\"Abnormality Type\")\n",
    "    plt.xticks(rotation=45)\n",
    "    plt.show()\n"
   ]
  },
  {
   "cell_type": "code",
   "execution_count": null,
   "id": "a33edd5c",
   "metadata": {},
   "outputs": [],
   "source": [
    "def plot_breastdensity_vs_assessment(df):\n",
    "    \"\"\"Plot Breast Density vs Assessment grouped bar.\"\"\"\n",
    "    plt.figure(figsize=(6,4))\n",
    "    sns.countplot(data=df.dropna(subset=[\"Assessment\"]), \n",
    "                  x=\"BreastDensity\", hue=\"Assessment\", palette=\"Set2\")\n",
    "    plt.title(\"Breast Density vs Assessment\")\n",
    "    plt.ylabel(\"Count\")\n",
    "    plt.xlabel(\"Breast Density\")\n",
    "    plt.show()\n"
   ]
  },
  {
   "cell_type": "code",
   "execution_count": null,
   "id": "ad98f47b",
   "metadata": {},
   "outputs": [],
   "source": [
    "\n",
    "def plot_mias_image(df, image_folder, image_id):\n",
    "    \"\"\"\n",
    "    Plots one MIAS dataset image with abnormality marked.\n",
    "    \n",
    "    df            : DataFrame containing parsed MIAS data\n",
    "    image_folder  : Path to folder containing PGM images\n",
    "    image_id      : ImageID from the DataFrame (e.g., 'mdb001')\n",
    "    \"\"\"\n",
    "    \n",
    "    # Get the row for this image\n",
    "    row = df[df[\"ImageID\"] == image_id].iloc[0]\n",
    "    \n",
    "    # Build image file path\n",
    "    img_path = os.path.join(image_folder, f\"{image_id}.pgm\")\n",
    "    \n",
    "    # Read image\n",
    "    img = cv2.imread(img_path, cv2.IMREAD_GRAYSCALE)\n",
    "    \n",
    "    # Plot image\n",
    "    plt.figure(figsize=(6, 6))\n",
    "    plt.imshow(img, cmap=\"gray\")\n",
    "    plt.title(f\"{image_id} | {row['BreastDensity']} | {row['AbnormalityType']} | {row['Assessment']}\")\n",
    "    \n",
    "    # Draw circle only if Radius > 0\n",
    "    if row[\"Radius\"] > 0:\n",
    "        circle = plt.Circle((row[\"X\"], img.shape[0] - row[\"Y\"]),  # Flip Y for image coordinates\n",
    "                            row[\"Radius\"], \n",
    "                            color='red', fill=False, linewidth=2)\n",
    "        plt.gca().add_patch(circle)\n",
    "    \n",
    "    plt.axis(\"off\")\n",
    "    plt.show()\n"
   ]
  },
  {
   "cell_type": "markdown",
   "id": "a71ee5dd",
   "metadata": {},
   "source": [
    "### load data"
   ]
  },
  {
   "cell_type": "code",
   "execution_count": null,
   "id": "26e642cc",
   "metadata": {},
   "outputs": [],
   "source": [
    "df = load_data('C:/Users/Sreerag/Documents/ML_chellange/Detection-of-Breast-Abnormalities/Detection-of-Breast-Abnormalities-from-Mammogram/Data/Raw_data/Parse_file/Parse_data.txt')"
   ]
  },
  {
   "cell_type": "markdown",
   "id": "c51bcaef",
   "metadata": {},
   "source": [
    "### Initial Analysis"
   ]
  },
  {
   "cell_type": "markdown",
   "id": "e978bb91",
   "metadata": {},
   "source": [
    "Analysing for nan and empty values"
   ]
  },
  {
   "cell_type": "code",
   "execution_count": null,
   "id": "e3677a84",
   "metadata": {},
   "outputs": [],
   "source": [
    "initial_analysis(df) # Initial analysis of the DataFrame"
   ]
  },
  {
   "cell_type": "markdown",
   "id": "67eebde1",
   "metadata": {},
   "source": [
    "Data Descriptions\n",
    "\n",
    "- **X**  \n",
    "  The horizontal coordinate (in pixels) of the abnormality's center within the mammogram image.\n",
    "\n",
    "- **Y**  \n",
    "  The vertical coordinate (in pixels) of the abnormality's center within the mammogram image.\n",
    "\n",
    "- **Radius**  \n",
    "  The approximate radius (in pixels) of the abnormality region, measured from the center `(X, Y)` to the boundary.  \n",
    "  This is useful for defining a region of interest (ROI) for further analysis, such as cropping or segmentation.\n"
   ]
  },
  {
   "cell_type": "code",
   "execution_count": null,
   "id": "941c8fbb",
   "metadata": {},
   "outputs": [],
   "source": [
    "initial_plot(df)"
   ]
  },
  {
   "cell_type": "markdown",
   "id": "de0d6f46",
   "metadata": {},
   "source": [
    "### Preprocessing"
   ]
  },
  {
   "cell_type": "markdown",
   "id": "241fe986",
   "metadata": {},
   "source": [
    "Filling nan and empty data with suitable values"
   ]
  },
  {
   "cell_type": "markdown",
   "id": "9ef63bda",
   "metadata": {},
   "source": [
    "In this dataset, the X, Y, and Radius columns represent the coordinates and size of a detected abnormality (tumor).\n",
    "When there is no tumor present, these values are not applicable, and are recorded as NaN.\n",
    "Since NaN here specifically means “no tumor,” replacing these missing values with 0 is appropriate —\n",
    "it clearly indicates the absence of a tumor and keeps the columns in a numeric format, which is important for further analysis and modeling. Also, replace the nan in assesment with \"N\" means norman because all other images without B or M comes under Normal so replace with N (normal).\n"
   ]
  },
  {
   "cell_type": "code",
   "execution_count": null,
   "id": "0d85ddcf",
   "metadata": {},
   "outputs": [],
   "source": [
    "df = fill_nan(df)"
   ]
  },
  {
   "cell_type": "markdown",
   "id": "d69a0216",
   "metadata": {},
   "source": [
    "Recheck for nan"
   ]
  },
  {
   "cell_type": "code",
   "execution_count": null,
   "id": "3febe784",
   "metadata": {},
   "outputs": [],
   "source": [
    "initial_analysis(df)  # Re-check after filling NaN values"
   ]
  },
  {
   "cell_type": "code",
   "execution_count": null,
   "id": "3e16e12c",
   "metadata": {},
   "outputs": [],
   "source": [
    "enforce_numeric_coords(df)  # Ensure numeric coordinates\n",
    "df.info()  # Display DataFrame info after enforcing numeric coordinates"
   ]
  },
  {
   "cell_type": "markdown",
   "id": "11b07046",
   "metadata": {},
   "source": [
    "Initial analysis of data after preprocessing"
   ]
  },
  {
   "cell_type": "code",
   "execution_count": null,
   "id": "5d67e37a",
   "metadata": {},
   "outputs": [],
   "source": [
    "initial_plot(df)"
   ]
  },
  {
   "cell_type": "markdown",
   "id": "925becdd",
   "metadata": {},
   "source": [
    "### Save data"
   ]
  },
  {
   "cell_type": "code",
   "execution_count": null,
   "id": "e3d5bbe4",
   "metadata": {},
   "outputs": [],
   "source": [
    "path = \"C:/Users/Sreerag/Documents/ML_chellange/Detection-of-Breast-Abnormalities/Detection-of-Breast-Abnormalities-from-Mammogram/Data/Preprocessed_data/Parse_file/Parse_data_preprocessed\"\n",
    "df.to_csv(path, index=False)"
   ]
  },
  {
   "cell_type": "markdown",
   "id": "42c463cf",
   "metadata": {},
   "source": [
    "### Exploratory Data Analysis (EDA)"
   ]
  },
  {
   "cell_type": "markdown",
   "id": "10d7f0d7",
   "metadata": {},
   "source": [
    "Targets\n",
    "1) Cancer type\n",
    "2) X, Y, Radious"
   ]
  },
  {
   "cell_type": "code",
   "execution_count": null,
   "id": "7f7e76df",
   "metadata": {},
   "outputs": [],
   "source": [
    "plot_breastdensity_vs_abnormalitytype(df)\n"
   ]
  },
  {
   "cell_type": "markdown",
   "id": "cb08ddb3",
   "metadata": {},
   "source": [
    "D – Dense-glandular, \n",
    "F – Fatty ,\n",
    "G – Fatty-glandular ,\n",
    "\n",
    "images of Dense-grandular and Fatty type have more upnormalities in this dataset.\n"
   ]
  },
  {
   "cell_type": "code",
   "execution_count": null,
   "id": "828ca0fa",
   "metadata": {},
   "outputs": [],
   "source": [
    "plot_abnormalitytype_vs_assessment(df)"
   ]
  },
  {
   "cell_type": "markdown",
   "id": "d546f2e8",
   "metadata": {},
   "source": [
    "MIAS Abnormality Categories\n",
    "\n",
    "- **CALC** – Calcification (tiny calcium deposits, may be benign or malignant)  \n",
    "- **CIRC** – Well-defined/circumscribed mass (round/oval with clear edges)  \n",
    "- **SPIC** – Spiculated mass (irregular shape with radiating lines, often malignant)  \n",
    "- **MISC** – Other ill-defined mass (not clearly round/oval, fuzzy borders)  \n",
    "- **ARCH** – Architectural distortion (normal breast structure is disrupted)  \n",
    "- **ASYM** – Asymmetry (one breast shows more tissue density than the other)  \n",
    "- **NORM** – Normal (no abnormality detected)  \n",
    "\n",
    "The chance of tumor being manignen is less for CIRC condeation compaired to all other upnormalities"
   ]
  },
  {
   "cell_type": "code",
   "execution_count": null,
   "id": "07f255c1",
   "metadata": {},
   "outputs": [],
   "source": [
    "plot_breastdensity_vs_assessment(df)"
   ]
  },
  {
   "cell_type": "markdown",
   "id": "c3dc9fbc",
   "metadata": {},
   "source": [
    "The dataset have similar quantity of images with tumors for each brest density category. "
   ]
  },
  {
   "cell_type": "markdown",
   "id": "13ab6143",
   "metadata": {},
   "source": [
    "### Image analysis"
   ]
  },
  {
   "cell_type": "markdown",
   "id": "5e6879e5",
   "metadata": {},
   "source": [
    "Plot image "
   ]
  },
  {
   "cell_type": "code",
   "execution_count": null,
   "id": "1215d07e",
   "metadata": {},
   "outputs": [],
   "source": [
    "Image_folder = \"C:/Users/Sreerag/Documents/ML_chellange/Detection-of-Breast-Abnormalities/Detection-of-Breast-Abnormalities-from-Mammogram/Data/Raw_data/Images\"\n",
    "plot_mias_image(df, Image_folder, 'mdb002')  # Example image ID"
   ]
  },
  {
   "cell_type": "markdown",
   "id": "04f8e7d4",
   "metadata": {},
   "source": [
    "## Model"
   ]
  },
  {
   "cell_type": "markdown",
   "id": "71731093",
   "metadata": {},
   "source": [
    "Imports\n"
   ]
  },
  {
   "cell_type": "code",
   "execution_count": 49,
   "id": "6170937d",
   "metadata": {},
   "outputs": [],
   "source": [
    "import numpy as np\n",
    "import torch\n",
    "import torch.nn as nn\n",
    "from torch.utils.data import Dataset, DataLoader\n",
    "from torchvision import transforms, models\n",
    "from PIL import Image\n",
    "from sklearn.model_selection import train_test_split"
   ]
  },
  {
   "cell_type": "code",
   "execution_count": null,
   "id": "0f631bbf",
   "metadata": {},
   "outputs": [],
   "source": [
    "# ===== 1. Dataset Class =====\n",
    "class MIASDataset(Dataset):\n",
    "    def __init__(self, df, image_folder, transform=None):\n",
    "        self.df = df.reset_index(drop=True)\n",
    "        self.image_folder = image_folder\n",
    "        self.transform = transform\n",
    "        self.label_map = {label: idx for idx, label in enumerate(df['Assessment'].unique())}\n",
    "\n",
    "    def __len__(self):\n",
    "        return len(self.df)\n",
    "\n",
    "    def __getitem__(self, idx):\n",
    "        row = self.df.iloc[idx]\n",
    "        img_path = os.path.join(self.image_folder, row['ImageID'] + \".pgm\")\n",
    "        image = Image.open(img_path).convert(\"L\")  # grayscale\n",
    "\n",
    "        if self.transform:\n",
    "            image = self.transform(image)\n",
    "\n",
    "        label = self.label_map[row['Assessment']]\n",
    "        return image, label"
   ]
  },
  {
   "cell_type": "code",
   "execution_count": 42,
   "id": "b66662b7",
   "metadata": {},
   "outputs": [],
   "source": [
    "# ===== 2. Data Preprocessing =====\n",
    "def create_datasets(df, image_folder, test_size=0.3):\n",
    "    transform = transforms.Compose([\n",
    "    transforms.Resize((224, 224)),\n",
    "    transforms.Grayscale(num_output_channels=3),\n",
    "    transforms.RandomHorizontalFlip(),\n",
    "    transforms.RandomRotation(10),\n",
    "    transforms.ColorJitter(brightness=0.1, contrast=0.1),\n",
    "    transforms.ToTensor(),\n",
    "    transforms.Normalize([0.5], [0.5])\n",
    "])\n",
    "\n",
    "    train_df, test_df = train_test_split(df, test_size=test_size, stratify=df['Assessment'], random_state=42)\n",
    "    train_dataset = MIASDataset(train_df, image_folder, transform=transform)\n",
    "    test_dataset = MIASDataset(test_df, image_folder, transform=transform)\n",
    "\n",
    "    return train_dataset, test_dataset\n"
   ]
  },
  {
   "cell_type": "code",
   "execution_count": 43,
   "id": "67832ba1",
   "metadata": {},
   "outputs": [],
   "source": [
    "# ===== 3. Model Setup =====\n",
    "def build_model(num_classes):\n",
    "    model = models.resnet18(pretrained=True)\n",
    "    model.fc = nn.Linear(model.fc.in_features, num_classes)\n",
    "    return model"
   ]
  },
  {
   "cell_type": "code",
   "execution_count": 44,
   "id": "9718011e",
   "metadata": {},
   "outputs": [],
   "source": [
    "# ===== 4. Training =====\n",
    "def train_model(model, train_loader, criterion, optimizer, device, epochs=5):\n",
    "    model.train()\n",
    "    for epoch in range(epochs):\n",
    "        running_loss = 0\n",
    "        for images, labels in train_loader:\n",
    "            images, labels = images.to(device), labels.to(device)\n",
    "\n",
    "            optimizer.zero_grad()\n",
    "            outputs = model(images)\n",
    "            loss = criterion(outputs, labels)\n",
    "            loss.backward()\n",
    "            optimizer.step()\n",
    "\n",
    "            running_loss += loss.item()\n",
    "\n",
    "        print(f\"Epoch [{epoch+1}/{epochs}] - Loss: {running_loss/len(train_loader):.4f}\")\n"
   ]
  },
  {
   "cell_type": "code",
   "execution_count": 45,
   "id": "4d9ca8b8",
   "metadata": {},
   "outputs": [],
   "source": [
    "# ===== 5. Evaluation =====\n",
    "def evaluate_model(model, test_loader, device):\n",
    "    model.eval()\n",
    "    correct, total = 0, 0\n",
    "    with torch.no_grad():\n",
    "        for images, labels in test_loader:\n",
    "            images, labels = images.to(device), labels.to(device)\n",
    "            outputs = model(images)\n",
    "            _, preds = torch.max(outputs, 1)\n",
    "            total += labels.size(0)\n",
    "            correct += (preds == labels).sum().item()\n",
    "    print(f\"Test Accuracy: {100 * correct / total:.2f}%\")"
   ]
  },
  {
   "cell_type": "code",
   "execution_count": 46,
   "id": "1cb4eb98",
   "metadata": {},
   "outputs": [],
   "source": [
    "device = torch.device(\"cuda\" if torch.cuda.is_available() else \"cpu\")\n",
    "train_dataset, test_dataset = create_datasets(df, Image_folder)\n",
    "train_loader = DataLoader(train_dataset, batch_size=8, shuffle=True)\n",
    "test_loader = DataLoader(test_dataset, batch_size=8, shuffle=False)"
   ]
  },
  {
   "cell_type": "code",
   "execution_count": 47,
   "id": "41eb48a7",
   "metadata": {},
   "outputs": [
    {
     "name": "stderr",
     "output_type": "stream",
     "text": [
      "c:\\Users\\Sreerag\\AppData\\Local\\Programs\\Python\\Python313\\Lib\\site-packages\\torchvision\\models\\_utils.py:208: UserWarning: The parameter 'pretrained' is deprecated since 0.13 and may be removed in the future, please use 'weights' instead.\n",
      "  warnings.warn(\n",
      "c:\\Users\\Sreerag\\AppData\\Local\\Programs\\Python\\Python313\\Lib\\site-packages\\torchvision\\models\\_utils.py:223: UserWarning: Arguments other than a weight enum or `None` for 'weights' are deprecated since 0.13 and may be removed in the future. The current behavior is equivalent to passing `weights=ResNet18_Weights.IMAGENET1K_V1`. You can also use `weights=ResNet18_Weights.DEFAULT` to get the most up-to-date weights.\n",
      "  warnings.warn(msg)\n"
     ]
    }
   ],
   "source": [
    "model = build_model(num_classes=len(df['Assessment'].unique())).to(device)\n",
    "criterion = nn.CrossEntropyLoss()\n",
    "optimizer = torch.optim.Adam(model.parameters(), lr=1e-4)"
   ]
  },
  {
   "cell_type": "code",
   "execution_count": 48,
   "id": "731d6791",
   "metadata": {},
   "outputs": [
    {
     "name": "stdout",
     "output_type": "stream",
     "text": [
      "Epoch [1/5] - Loss: 0.9990\n",
      "Epoch [2/5] - Loss: 0.8958\n",
      "Epoch [3/5] - Loss: 0.8545\n",
      "Epoch [4/5] - Loss: 0.8548\n",
      "Epoch [5/5] - Loss: 0.8065\n"
     ]
    }
   ],
   "source": [
    "train_model(model, train_loader, criterion, optimizer, device, epochs=5)"
   ]
  },
  {
   "cell_type": "code",
   "execution_count": 58,
   "id": "b8bddb8f",
   "metadata": {},
   "outputs": [
    {
     "name": "stdout",
     "output_type": "stream",
     "text": [
      "Test Accuracy: 62.63%\n"
     ]
    }
   ],
   "source": [
    "evaluate_model(model, test_loader, device)"
   ]
  },
  {
   "cell_type": "code",
   "execution_count": null,
   "id": "26628abb",
   "metadata": {},
   "outputs": [],
   "source": []
  }
 ],
 "metadata": {
  "kernelspec": {
   "display_name": "Python 3",
   "language": "python",
   "name": "python3"
  },
  "language_info": {
   "codemirror_mode": {
    "name": "ipython",
    "version": 3
   },
   "file_extension": ".py",
   "mimetype": "text/x-python",
   "name": "python",
   "nbconvert_exporter": "python",
   "pygments_lexer": "ipython3",
   "version": "3.13.4"
  }
 },
 "nbformat": 4,
 "nbformat_minor": 5
}
